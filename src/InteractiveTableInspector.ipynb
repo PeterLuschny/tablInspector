{
 "cells": [
  {
   "cell_type": "code",
   "execution_count": 1,
   "metadata": {},
   "outputs": [],
   "source": [
    "# %load https://raw.githubusercontent.com/PeterLuschny/tablInspector/refs/heads/main/src/Tables.py\n",
    "from Tables import *"
   ]
  },
  {
   "cell_type": "markdown",
   "metadata": {},
   "source": [
    "<h1 style=\"color:#CD5C5C;background:white; line-height: 150%;border-top: thick solid #CD5C5C; float: left; width: 100%; margin-top: 0.1cm;\">The interactive tabl Inspector</h1>\n",
    "<h3> Peter Luschny, February 2025</h3>"
   ]
  },
  {
   "cell_type": "markdown",
   "metadata": {},
   "source": [
    "<h2 style=\"color:#CD5C5C;background:white; line-height: 150%;border-top: thick solid #CD5C5C; float: left; width: 100%; margin-top: 0.0cm;\">Showcase</h2>"
   ]
  },
  {
   "cell_type": "markdown",
   "metadata": {},
   "source": [
    "| Name         |  Formula | Triangle   | Trait  |\n",
    "| :---         | :---     | :---       | :---   |\n",
    "| Triangle     | $ T_{n,k} $ | Abel  |  A137452 |\n",
    "| Tinv         | $ (T^{-1})_{n,k} $ | Abel  | A059297  |\n",
    "| Trev         | $ T_{n,n-k} $ | StirlingSet | A106800  |\n",
    "| Tinvrev      | $ (T_{n,n-k})^{-1} $ | FallingFactorial | A132013  |\n",
    "| Trevinv      | $ (T^{-1})_{n,n-k} $ | DyckPaths | A054142 |\n",
    "| Toff11       | $ T_{n+1,k+1}  $ | StirlingSet  | A008277  |\n",
    "| Trev11       | $ T_{n+1,n-k+1}  $ | Eulerian  | A008292  |\n",
    "| Tinv11       | $ (T^{-1})_{n+1,k+1} $ | Eulerian  | A055325  |\n",
    "| Tinvrev11    | $ (T_{n+1,n-k+1})^{-1} $ | Eulerian  | A055325  |\n",
    "| Trevinv11    | $ (T^{-1})_{n+1,n-k+1} $ | StirlingSet  | A094638  |\n",
    "| Tantidiag    | $ T_{n-k,k}\\ \\ (k \\le n/2) $ | Motzkin  | A106489  |\n",
    "| Tacc         | $ \\sum_{j=0}^{k} T_{n,j} $ | Binomial | A008949  |\n",
    "| Talt         | $ T_{n,k} (-1)^{k} $  | Binomial |  A130595 |\n",
    "| Tder         | $ T_{n,k+1}\\ (k+1)  $ | Abel | A225465 |\n",
    "| TablCol0     | $ T_{n  ,0} $ | WardCycle | A000007 |\n",
    "| TablCol1     | $ T_{n+1,1} $ | WardCycle | A000142 |\n",
    "| TablCol2     | $ T_{n+2,2} $ | WardCycle | A000276 |\n",
    "| TablCol3     | $ T_{n+3,3} $ | WardCycle | A000483 |\n",
    "| TablDiag0    | $ T_{n  ,n} $ | WardSet | A001147 |\n",
    "| TablDiag1    | $ T_{n+1,n} $ | WardSet | A000457 |\n",
    "| TablDiag2    | $ T_{n+2,n} $ | WardSet | A000497 |\n",
    "| TablDiag3    | $ T_{n+3,n} $ | WardSet | A000504 |\n",
    "| TablLcm      | $ \\text{lcm} \\{ \\ \\| T_{n,k} \\| : k=0..n \\} $ | Binomial | A002944 |\n",
    "| TablGcd      | $ \\text{gcd} \\{ \\ \\| T_{n,k} \\| : k=0..n \\} $ | Fubini | A141056 |\n",
    "| TablMax      | $ \\text{max} \\{ \\ \\| T_{n,k} \\| : k=0..n \\} $ | BinaryPell  | A109388  |\n",
    "| TablSum      | $ \\sum_{k=0}^{n} T_{n,k} $ | Binomial | A000079  |\n",
    "| EvenSum      | $ \\sum_{k=0}^{n} T_{n,k}\\ (2 \\mid k) $ | Binomial | A011782  |\n",
    "| OddSum       | $ \\sum_{k=0}^{n} T_{n,k}\\ (1 - (2 \\mid k)) $ | Binomial | A131577  |\n",
    "| AltSum       | $ \\sum_{k=0}^{n} T_{n,k} (-1)^{k} $ | Binomial | A000007  |\n",
    "| AbsSum       | $ \\sum_{k=0}^{n} \\| T_{n,k} \\| $ | EulerTan | A009739  |\n",
    "| AccSum       | $ \\sum_{k=0}^{n} \\sum_{j=0}^{k} T_{n,j} $ | Binomial | A001792  |\n",
    "| AccRevSum    | $ \\sum_{k=0}^{n} \\sum_{j=0}^{k} T_{n,n-j} $ | StirlingCycle | A000774 |\n",
    "| AntiDSum     | $ \\sum_{k=0}^{n/2} T_{n-k, k} $ | Binomial | A000045 |\n",
    "| ColMiddle    | $ T_{n, n / 2} $ | Binomial | A001405  |\n",
    "| CentralE     | $ T_{2 n, n} $ | Binomial | A000984  |\n",
    "| CentralO     | $ T_{2 n + 1, n} $ | Binomial | A001700  |\n",
    "| PosHalf      | $ \\sum_{k=0}^{n}T_{n,k}\\ 2^{n-k}  $ | FallingFactorial | A010842  |\n",
    "| NegHalf      | $ \\sum_{k=0}^{n}T_{n,k}\\ (-2)^{n-k}  $ | FallingFactorial | A000023  |\n",
    "| TransNat0    | $ \\sum_{k=0}^{n}T_{n,k}\\ k $ | Binomial | A001787  |\n",
    "| TransNat1    | $ \\sum_{k=0}^{n}T_{n,k}\\ (k+1) $ | Binomial | A001792  |\n",
    "| TransSqrs    | $ \\sum_{k=0}^{n}T_{n,k}\\ k^{2} $ | Lah | A103194  |\n",
    "| BinConv      | $ \\sum_{k=0}^{n}T_{n,k}\\ \\binom{n}{k}  $ | FallingFactorial | A002720  |\n",
    "| InvBinConv   | $ \\sum_{k=0}^{n}T_{n,k}\\ (-1)^{n-k}\\ \\binom{n}{k} $ | FallingFactorial | A009940  |\n",
    "| PolyRow1     | $ \\sum_{k=0}^{1}T_{1,k}\\ n^k $ | Lucas | A005408 |\n",
    "| PolyRow2     | $ \\sum_{k=0}^{2}T_{2,k}\\ n^k $ | Lucas | A000384 |\n",
    "| PolyRow3     | $ \\sum_{k=0}^{3}T_{3,k}\\ n^k $ | Lucas | A015237 |\n",
    "| PolyCol2     | $ \\sum_{k=0}^{n}T_{n,k}\\ 2^k $ | Abel | A007334 |\n",
    "| PolyCol3     | $ \\sum_{k=0}^{n}T_{n,k}\\ 3^k $ | Abel | A362354 |\n",
    "| PolyDiag     | $ \\sum_{k=0}^{n}T_{n,k}\\ n^k $ | Abel | A193678 |"
   ]
  },
  {
   "cell_type": "markdown",
   "metadata": {},
   "source": [
    "<h2 style=\"color:#CD5C5C;background:white; line-height: 150%;border-top: thick solid #CD5C5C; float: left; width: 100%; margin-top: 0.8cm;\">Some examples</h2>"
   ]
  },
  {
   "cell_type": "code",
   "execution_count": null,
   "metadata": {},
   "outputs": [],
   "source": [
    "Eulerian.show(9)"
   ]
  },
  {
   "cell_type": "code",
   "execution_count": 2,
   "metadata": {},
   "outputs": [
    {
     "name": "stdout",
     "output_type": "stream",
     "text": [
      "You searched: 1,0,1,0,1,1,0,1,4,1,0,1,11,11,1,0,1,26,66,26,1,0,1,57,302,\n",
      "OEIS-data is: 1,1,0,1,1,0,1,4,1,0,1,11,11,1,0,1,26,66,26,1,0,1,57,302,302,57,1,0,1,120,1191,2416,1191,120,1,0,1,247,4293,15619,15619,4293,247,1,0,1,502,14608,88234,156190,88234,14608,502,1,0,1,1013,47840,455192,1310354,1310354,455192,47840,1013,1,0\n",
      "*** Found: A173018 Euler's triangle: triangle of Eulerian numbers T(n,k) (n>=0, 0 <= k <= n) read by rows.\n"
     ]
    },
    {
     "data": {
      "text/plain": [
       "173018"
      ]
     },
     "execution_count": 2,
     "metadata": {},
     "output_type": "execute_result"
    }
   ],
   "source": [
    "LookUp(Eulerian, Triangle)"
   ]
  },
  {
   "cell_type": "code",
   "execution_count": null,
   "metadata": {},
   "outputs": [],
   "source": [
    "LookUp(Abel, CentralE)"
   ]
  },
  {
   "cell_type": "code",
   "execution_count": null,
   "metadata": {},
   "outputs": [],
   "source": [
    "LookUp(Abel, PolyDiag)"
   ]
  },
  {
   "cell_type": "code",
   "execution_count": null,
   "metadata": {},
   "outputs": [],
   "source": [
    "LookUp(Abel, Tinv)"
   ]
  },
  {
   "cell_type": "code",
   "execution_count": null,
   "metadata": {},
   "outputs": [],
   "source": [
    "LookUp(Fubini, TablGcd)"
   ]
  },
  {
   "cell_type": "code",
   "execution_count": null,
   "metadata": {},
   "outputs": [],
   "source": [
    "LookUp(Schroeder, TablSum)"
   ]
  },
  {
   "cell_type": "code",
   "execution_count": null,
   "metadata": {},
   "outputs": [],
   "source": [
    "Schroeder.inv(9)"
   ]
  },
  {
   "cell_type": "code",
   "execution_count": null,
   "metadata": {},
   "outputs": [],
   "source": [
    "# Note that our implementations often prefer the unsigned version.\n",
    "SchroederInv.show(9)"
   ]
  },
  {
   "cell_type": "code",
   "execution_count": null,
   "metadata": {},
   "outputs": [],
   "source": [
    "LookUp(SchroederInv, TablSum)"
   ]
  },
  {
   "cell_type": "code",
   "execution_count": null,
   "metadata": {},
   "outputs": [],
   "source": [
    "InspectTable(Abel)"
   ]
  },
  {
   "cell_type": "markdown",
   "metadata": {},
   "source": [
    "<h1 style=\"color:#CD5C5C;background:white; line-height: 150%;border-top: thick solid #CD5C5C; float: left; width: 100%; margin-top: 0.8cm;\">ILookUp  -  browsing the tbls</h1>\n",
    "<h4>ILookUp is the interactive version of the function LookUp.<br>\n",
    "Makes browsing through integer triangles and their traits a breeze.</h4>"
   ]
  },
  {
   "cell_type": "code",
   "execution_count": 9,
   "metadata": {},
   "outputs": [
    {
     "data": {
      "application/vnd.jupyter.widget-view+json": {
       "model_id": "3fb72f463abc4721bec7fc4d9976b398",
       "version_major": 2,
       "version_minor": 0
      },
      "text/plain": [
       "Dropdown(options=('Abel', 'AbelInv', 'Andre', 'Baxter', 'Bell', 'Bessel', 'BesselInv', 'Bessel2', 'BinaryPell'…"
      ]
     },
     "metadata": {},
     "output_type": "display_data"
    }
   ],
   "source": [
    "tblselector = GetTablSelector() \n",
    "display(tblselector)"
   ]
  },
  {
   "cell_type": "code",
   "execution_count": 10,
   "metadata": {},
   "outputs": [
    {
     "data": {
      "application/vnd.jupyter.widget-view+json": {
       "model_id": "cd28b9f02fcd427084eeec1dbace3c09",
       "version_major": 2,
       "version_minor": 0
      },
      "text/plain": [
       "Dropdown(options=('AbsSum', 'AccRevSum', 'AccSum', 'AltSum', 'AntiDSum', 'BinConv', 'CentralE', 'CentralO', 'C…"
      ]
     },
     "metadata": {},
     "output_type": "display_data"
    }
   ],
   "source": [
    "traitsselector = GetTraitSelector()\n",
    "display(traitsselector)"
   ]
  },
  {
   "cell_type": "code",
   "execution_count": 11,
   "metadata": {},
   "outputs": [
    {
     "name": "stdout",
     "output_type": "stream",
     "text": [
      "Selected triangle: Abel\n",
      "Selected trait:    AbsSum\n",
      "[0] [1] \n",
      "[1] [0, 1] \n",
      "[2] [0, 2, 1] \n",
      "[3] [0, 9, 6, 1] \n",
      "[4] [0, 64, 48, 12, 1] \n",
      "[5] [0, 625, 500, 150, 20, 1] \n",
      "[6] [0, 7776, 6480, 2160, 360, 30, 1] \n",
      "You searched: 1,1,3,16,125,1296,16807,262144,4782969,100000000,2357947691,61917364224,1792160394037,56693912375296,1946195068359375,72057594037927936,2862423051509815793,\n",
      "OEIS-data is: 1,1,1,3,16,125,1296,16807,262144,4782969,100000000,2357947691,61917364224,1792160394037,56693912375296,1946195068359375,72057594037927936,2862423051509815793,121439531096594251776,5480386857784802185939\n",
      "*** Found: A000272 Number of trees on n labeled nodes: n^(n-2) with a(0)=1.\n"
     ]
    },
    {
     "data": {
      "text/plain": [
       "272"
      ]
     },
     "execution_count": 11,
     "metadata": {},
     "output_type": "execute_result"
    }
   ],
   "source": [
    "ILookUp(tblselector.value, traitsselector.value)"
   ]
  },
  {
   "cell_type": "markdown",
   "metadata": {},
   "source": [
    "<h1 style=\"color:#CD5C5C;background:white; line-height: 150%;border-top: thick solid #CD5C5C; float: left; width: 100%; margin-top: 0.8cm;\">TblPlot</h1>\n",
    "\n",
    "<h4>You have to run the next function with a SageMath kernel. </h4>"
   ]
  },
  {
   "cell_type": "code",
   "execution_count": 4,
   "metadata": {},
   "outputs": [
    {
     "name": "stdout",
     "output_type": "stream",
     "text": [
      "This function can only be used in a SageMath environment.\n"
     ]
    }
   ],
   "source": [
    "TablPlot(FussCatalan, 9)"
   ]
  }
 ],
 "metadata": {
  "kernelspec": {
   "display_name": "Python 3",
   "language": "python",
   "name": "python3"
  },
  "language_info": {
   "codemirror_mode": {
    "name": "ipython",
    "version": 3
   },
   "file_extension": ".py",
   "mimetype": "text/x-python",
   "name": "python",
   "nbconvert_exporter": "python",
   "pygments_lexer": "ipython3",
   "version": "3.13.2"
  }
 },
 "nbformat": 4,
 "nbformat_minor": 2
}
