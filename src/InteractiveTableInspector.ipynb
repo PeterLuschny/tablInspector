{
 "cells": [
  {
   "cell_type": "code",
   "execution_count": null,
   "metadata": {},
   "outputs": [],
   "source": [
    "# %load https://raw.githubusercontent.com/PeterLuschny/tablInspector/refs/heads/main/src/Tables.py\n",
    "from Tables import *"
   ]
  },
  {
   "cell_type": "markdown",
   "metadata": {},
   "source": [
    "<h1 style=\"color:#CD5C5C;background:white; line-height: 150%;border-top: thick solid #CD5C5C; float: left; width: 100%; margin-top: 0.1cm;\">The interactive tabl Inspector</h1>\n",
    "<h3> Peter Luschny, February 2025</h3>"
   ]
  },
  {
   "cell_type": "markdown",
   "metadata": {},
   "source": [
    "<h2 style=\"color:#CD5C5C;background:white; line-height: 150%;border-top: thick solid #CD5C5C; float: left; width: 100%; margin-top: 0.0cm;\">Showcase</h2>"
   ]
  },
  {
   "cell_type": "markdown",
   "metadata": {},
   "source": [
    "| Name         |  Formula | Triangle   | Trait  |\n",
    "| :---         | :---     | :---       | :---   |\n",
    "| Triangle     | $ T_{n,k} $ | Abel  |  A137452 |\n",
    "| Tinv         | $ (T^{-1})_{n,k} $ | Abel  | A059297  |\n",
    "| Trev         | $ T_{n,n-k} $ | StirlingSet | A106800  |\n",
    "| Tinvrev      | $ (T_{n,n-k})^{-1} $ | FallingFactorial | A132013  |\n",
    "| Trevinv      | $ (T^{-1})_{n,n-k} $ | DyckPaths | A054142 |\n",
    "| Toff11       | $ T_{n+1,k+1}  $ | StirlingSet  | A008277  |\n",
    "| Trev11       | $ T_{n+1,n-k+1}  $ | Eulerian  | A008292  |\n",
    "| Tinv11       | $ (T^{-1})_{n+1,k+1} $ | Eulerian  | A055325  |\n",
    "| Tinvrev11    | $ (T_{n+1,n-k+1})^{-1} $ | Eulerian  | A055325  |\n",
    "| Trevinv11    | $ (T^{-1})_{n+1,n-k+1} $ | StirlingSet  | A094638  |\n",
    "| Tantidiag    | $ T_{n-k,k}\\ \\ (k \\le n/2) $ | Motzkin  | A106489  |\n",
    "| Tacc         | $ \\sum_{j=0}^{k} T_{n,j} $ | Binomial | A008949  |\n",
    "| Talt         | $ T_{n,k} (-1)^{k} $  | Binomial |  A130595 |\n",
    "| Tder         | $ T_{n,k+1}\\ (k+1)  $ | Abel | A225465 |\n",
    "| TablCol0     | $ T_{n  ,0} $ | WardCycle | A000007 |\n",
    "| TablCol1     | $ T_{n+1,1} $ | WardCycle | A000142 |\n",
    "| TablCol2     | $ T_{n+2,2} $ | WardCycle | A000276 |\n",
    "| TablCol3     | $ T_{n+3,3} $ | WardCycle | A000483 |\n",
    "| TablDiag0    | $ T_{n  ,n} $ | WardSet | A001147 |\n",
    "| TablDiag1    | $ T_{n+1,n} $ | WardSet | A000457 |\n",
    "| TablDiag2    | $ T_{n+2,n} $ | WardSet | A000497 |\n",
    "| TablDiag3    | $ T_{n+3,n} $ | WardSet | A000504 |\n",
    "| TablLcm      | $ \\text{lcm} \\{ \\ \\| T_{n,k} \\| : k=0..n \\} $ | Binomial | A002944 |\n",
    "| TablGcd      | $ \\text{gcd} \\{ \\ \\| T_{n,k} \\| : k=0..n \\} $ | Fubini | A141056 |\n",
    "| TablMax      | $ \\text{max} \\{ \\ \\| T_{n,k} \\| : k=0..n \\} $ | BinaryPell  | A109388  |\n",
    "| TablSum      | $ \\sum_{k=0}^{n} T_{n,k} $ | Binomial | A000079  |\n",
    "| EvenSum      | $ \\sum_{k=0}^{n} T_{n,k}\\ (2 \\mid k) $ | Binomial | A011782  |\n",
    "| OddSum       | $ \\sum_{k=0}^{n} T_{n,k}\\ (1 - (2 \\mid k)) $ | Binomial | A131577  |\n",
    "| AltSum       | $ \\sum_{k=0}^{n} T_{n,k} (-1)^{k} $ | Binomial | A000007  |\n",
    "| AbsSum       | $ \\sum_{k=0}^{n} \\| T_{n,k} \\| $ | EulerTan | A009739  |\n",
    "| AccSum       | $ \\sum_{k=0}^{n} \\sum_{j=0}^{k} T_{n,j} $ | Binomial | A001792  |\n",
    "| AccRevSum    | $ \\sum_{k=0}^{n} \\sum_{j=0}^{k} T_{n,n-j} $ | StirlingCycle | A000774 |\n",
    "| AntiDSum     | $ \\sum_{k=0}^{n/2} T_{n-k, k} $ | Binomial | A000045 |\n",
    "| ColMiddle    | $ T_{n, n / 2} $ | Binomial | A001405  |\n",
    "| CentralE     | $ T_{2 n, n} $ | Binomial | A000984  |\n",
    "| CentralO     | $ T_{2 n + 1, n} $ | Binomial | A001700  |\n",
    "| PosHalf      | $ \\sum_{k=0}^{n}T_{n,k}\\ 2^{n-k}  $ | FallingFactorial | A010842  |\n",
    "| NegHalf      | $ \\sum_{k=0}^{n}T_{n,k}\\ (-2)^{n-k}  $ | FallingFactorial | A000023  |\n",
    "| TransNat0    | $ \\sum_{k=0}^{n}T_{n,k}\\ k $ | Binomial | A001787  |\n",
    "| TransNat1    | $ \\sum_{k=0}^{n}T_{n,k}\\ (k+1) $ | Binomial | A001792  |\n",
    "| TransSqrs    | $ \\sum_{k=0}^{n}T_{n,k}\\ k^{2} $ | Lah | A103194  |\n",
    "| BinConv      | $ \\sum_{k=0}^{n}T_{n,k}\\ \\binom{n}{k}  $ | FallingFactorial | A002720  |\n",
    "| InvBinConv   | $ \\sum_{k=0}^{n}T_{n,k}\\ (-1)^{n-k}\\ \\binom{n}{k} $ | FallingFactorial | A009940  |\n",
    "| PolyRow1     | $ \\sum_{k=0}^{1}T_{1,k}\\ n^k $ | Lucas | A005408 |\n",
    "| PolyRow2     | $ \\sum_{k=0}^{2}T_{2,k}\\ n^k $ | Lucas | A000384 |\n",
    "| PolyRow3     | $ \\sum_{k=0}^{3}T_{3,k}\\ n^k $ | Lucas | A015237 |\n",
    "| PolyCol2     | $ \\sum_{k=0}^{n}T_{n,k}\\ 2^k $ | Abel | A007334 |\n",
    "| PolyCol3     | $ \\sum_{k=0}^{n}T_{n,k}\\ 3^k $ | Abel | A362354 |\n",
    "| PolyDiag     | $ \\sum_{k=0}^{n}T_{n,k}\\ n^k $ | Abel | A193678 |"
   ]
  },
  {
   "cell_type": "markdown",
   "metadata": {},
   "source": [
    "<h2 style=\"color:#CD5C5C;background:white; line-height: 150%;border-top: thick solid #CD5C5C; float: left; width: 100%; margin-top: 0.8cm;\">Some examples</h2>"
   ]
  },
  {
   "cell_type": "code",
   "execution_count": null,
   "metadata": {},
   "outputs": [],
   "source": [
    "Eulerian.show(9)"
   ]
  },
  {
   "cell_type": "code",
   "execution_count": null,
   "metadata": {},
   "outputs": [],
   "source": [
    "LookUp(Eulerian, Triangle)"
   ]
  },
  {
   "cell_type": "code",
   "execution_count": null,
   "metadata": {},
   "outputs": [],
   "source": [
    "LookUp(Abel, CentralE)"
   ]
  },
  {
   "cell_type": "code",
   "execution_count": null,
   "metadata": {},
   "outputs": [],
   "source": [
    "LookUp(Abel, PolyDiag)"
   ]
  },
  {
   "cell_type": "code",
   "execution_count": null,
   "metadata": {},
   "outputs": [],
   "source": [
    "LookUp(Abel, Tinv)"
   ]
  },
  {
   "cell_type": "code",
   "execution_count": null,
   "metadata": {},
   "outputs": [],
   "source": [
    "LookUp(Fubini, TablGcd)"
   ]
  },
  {
   "cell_type": "code",
   "execution_count": null,
   "metadata": {},
   "outputs": [],
   "source": [
    "LookUp(Schroeder, TablSum)"
   ]
  },
  {
   "cell_type": "code",
   "execution_count": null,
   "metadata": {},
   "outputs": [],
   "source": [
    "Schroeder.inv(9)"
   ]
  },
  {
   "cell_type": "code",
   "execution_count": null,
   "metadata": {},
   "outputs": [],
   "source": [
    "# Note that our implementations often prefer the unsigned version.\n",
    "SchroederInv.show(9)"
   ]
  },
  {
   "cell_type": "code",
   "execution_count": null,
   "metadata": {},
   "outputs": [],
   "source": [
    "LookUp(SchroederInv, TablSum)"
   ]
  },
  {
   "cell_type": "code",
   "execution_count": null,
   "metadata": {},
   "outputs": [],
   "source": [
    "InspectTable(Abel)"
   ]
  },
  {
   "cell_type": "markdown",
   "metadata": {},
   "source": [
    "<h1 style=\"color:#CD5C5C;background:white; line-height: 150%;border-top: thick solid #CD5C5C; float: left; width: 100%; margin-top: 0.8cm;\">ILookUp  -  browsing the tbls</h1>\n",
    "<h4>ILookUp is the interactive version of the function LookUp.<br>\n",
    "Makes browsing through integer triangles and their traits a breeze.</h4>"
   ]
  },
  {
   "cell_type": "code",
   "execution_count": null,
   "metadata": {},
   "outputs": [],
   "source": [
    "tblselector = GetTablSelector() \n",
    "display(tblselector)"
   ]
  },
  {
   "cell_type": "code",
   "execution_count": null,
   "metadata": {},
   "outputs": [],
   "source": [
    "traitsselector = GetTraitSelector()\n",
    "display(traitsselector)"
   ]
  },
  {
   "cell_type": "code",
   "execution_count": 7,
   "metadata": {},
   "outputs": [
    {
     "name": "stdout",
     "output_type": "stream",
     "text": [
      "Selected triangle: BesselInv\n",
      "[0] [1] \n",
      "[1] [0, 1] \n",
      "[2] [0, 1, 1] \n",
      "[3] [0, 0, 3, 1] \n",
      "[4] [0, 0, 3, 6, 1] \n",
      "[5] [0, 0, 0, 15, 10, 1] \n",
      "[6] [0, 0, 0, 15, 45, 15, 1] \n",
      "Selected trait:    AbsSum\n",
      "You searched: 1,1,2,4,10,26,76,232,764,2620,9496,35696,140152,568504,2390480,10349536,46206736,211799312,997313824,4809701440,23758664096,119952692896,618884638912,\n",
      "OEIS-data is: 1,1,2,4,10,26,76,232,764,2620,9496,35696,140152,568504,2390480,10349536,46206736,211799312,997313824,4809701440,23758664096,119952692896,618884638912,3257843882624,17492190577600,95680443760576,532985208200576,3020676745975552\n",
      "*** Found: A000085 Number of self-inverse permutations on n letters, also known as involutions; number of standard Young tableaux with n cells.\n"
     ]
    },
    {
     "data": {
      "text/plain": [
       "85"
      ]
     },
     "execution_count": 7,
     "metadata": {},
     "output_type": "execute_result"
    }
   ],
   "source": [
    "ILookUp(tblselector.value, traitsselector.value)"
   ]
  }
 ],
 "metadata": {
  "kernelspec": {
   "display_name": "Python 3",
   "language": "python",
   "name": "python3"
  },
  "language_info": {
   "codemirror_mode": {
    "name": "ipython",
    "version": 3
   },
   "file_extension": ".py",
   "mimetype": "text/x-python",
   "name": "python",
   "nbconvert_exporter": "python",
   "pygments_lexer": "ipython3",
   "version": "3.13.2"
  }
 },
 "nbformat": 4,
 "nbformat_minor": 2
}
